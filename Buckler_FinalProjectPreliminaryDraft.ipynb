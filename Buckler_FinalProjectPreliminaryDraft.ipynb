{
 "cells": [
  {
   "cell_type": "markdown",
   "id": "ad53d413-7cf6-4ff9-880b-bb409143de2c",
   "metadata": {},
   "source": [
    "# __How Do People Feel About New Video Games Versus Old Video Games?__"
   ]
  },
  {
   "cell_type": "markdown",
   "id": "ffd230ab-3d94-4b32-9372-0770e70d6440",
   "metadata": {},
   "source": [
    "_In today's age, video games are an extremely common hobby around the world. It can provide a sense of fun, distraction, and community for the people who play them. However, I have noticed that a lot of people will say negative things about modern gaming. They say that \"new games are bad\" and \"the games don't have spirit in them\", and \"gaming used to be good\". This got me wondering, are new games actually as unfavorable as older games? I want to find out whether or not modern video games are actually as unfavorable as people seem to say, or if people are looking at older games with rose tinted glasses._"
   ]
  },
  {
   "cell_type": "markdown",
   "id": "1f1d570a-e5c7-49ba-87a9-366fc43b4619",
   "metadata": {},
   "source": [
    "_To do this, I will be comparing the reviews of games from GameSpot to get a general consensus on how people feel about old versus new video games._\n",
    "\n",
    "I will start off by importing the tools that I need to complete this analysis."
   ]
  },
  {
   "cell_type": "code",
   "execution_count": 2,
   "id": "3af9c30c-c826-43aa-a88f-b05ffd00e734",
   "metadata": {},
   "outputs": [],
   "source": [
    "import pandas as pd\n",
    "from matplotlib import pyplot as plt\n",
    "import json\n",
    "import urllib\n",
    "import requests\n",
    "import numpy as np"
   ]
  },
  {
   "cell_type": "markdown",
   "id": "b04cadf0-e1e1-4e7b-93e5-d989b39ceb95",
   "metadata": {},
   "source": [
    "I need to retrieve the API keys from GameSpot."
   ]
  },
  {
   "cell_type": "code",
   "execution_count": 3,
   "id": "d12cf532-5239-4534-8ea4-64aa466c3939",
   "metadata": {},
   "outputs": [],
   "source": [
    "api_key = pd.read_csv(r\"C:\\Users\\Alex Buckler\\data_SKOOBY\\GamesKey.txt\")\n",
    "key_s = api_key['GamesKey'].iloc[0]"
   ]
  },
  {
   "cell_type": "code",
   "execution_count": 4,
   "id": "0b045619-3d99-4680-9625-8d9e2e4b772d",
   "metadata": {},
   "outputs": [],
   "source": [
    "header = {'User-agent': 'Mozilla/5.0'}\n",
    "reviews_e = 'http://www.gamespot.com/api/reviews/'\n",
    "url_key = '?api_key=' + key_s\n",
    "url_format = '&format=json'\n"
   ]
  },
  {
   "cell_type": "code",
   "execution_count": 5,
   "id": "69eed241-9d7a-4e19-923b-4aa8e12e2ad9",
   "metadata": {},
   "outputs": [],
   "source": [
    "url_sort_asc = '&sort=score:asc'\n",
    "url_sort_desc = '&sort=score:desc'\n",
    "url_filter_past ='&filter=publish_date:2000-01-01|2010-01-01'\n",
    "url_filter_present ='&filter=publish_date:2010-01-02|2024-12-03'"
   ]
  },
  {
   "cell_type": "code",
   "execution_count": null,
   "id": "5a026f87-52a6-4933-830d-9c8399ed33bc",
   "metadata": {},
   "outputs": [],
   "source": [
    "response1 = requests.get(reviews_e + url_key + url_format + url_sort_asc + url_filter_past, headers = header)\n",
    "response1.text"
   ]
  },
  {
   "cell_type": "code",
   "execution_count": null,
   "id": "d847ce48-9e4f-4f8a-b914-fbd0c0432f28",
   "metadata": {},
   "outputs": [],
   "source": [
    "response2 = requests.get(reviews_e + url_key + url_format + url_sort_desc + url_filter_past, headers = header)\n",
    "response2.text"
   ]
  },
  {
   "cell_type": "code",
   "execution_count": null,
   "id": "bfc5aa8c-a365-4de7-be06-4b5a69018efa",
   "metadata": {},
   "outputs": [],
   "source": [
    "response3 = requests.get(reviews_e + url_key + url_format + url_sort_asc + url_filter_present, headers = header)\n",
    "response3.text"
   ]
  },
  {
   "cell_type": "code",
   "execution_count": null,
   "id": "63ec4c74-aa30-48b5-bde5-0cbdb2fe9c44",
   "metadata": {},
   "outputs": [],
   "source": [
    "response4 = requests.get(reviews_e + url_key + url_format + url_sort_desc + url_filter_present, headers = header)\n",
    "response4.text"
   ]
  },
  {
   "cell_type": "code",
   "execution_count": 10,
   "id": "4a9f85d6-fe45-41a4-b758-fffee3d7ef5c",
   "metadata": {},
   "outputs": [
    {
     "data": {
      "text/plain": [
       "dict_keys(['error', 'limit', 'offset', 'number_of_page_results', 'number_of_total_results', 'status_code', 'results', 'version'])"
      ]
     },
     "execution_count": 10,
     "metadata": {},
     "output_type": "execute_result"
    }
   ],
   "source": [
    "response_dict1 = json.loads(response1.text)\n",
    "response_dict1.keys()\n",
    "#pd.DataFrame(response_dict['error'])"
   ]
  },
  {
   "cell_type": "code",
   "execution_count": 11,
   "id": "348dfd16-a901-457d-b0c8-43a67ab1db2a",
   "metadata": {},
   "outputs": [
    {
     "data": {
      "text/plain": [
       "dict_keys(['error', 'limit', 'offset', 'number_of_page_results', 'number_of_total_results', 'status_code', 'results', 'version'])"
      ]
     },
     "execution_count": 11,
     "metadata": {},
     "output_type": "execute_result"
    }
   ],
   "source": [
    "response_dict2 = json.loads(response2.text)\n",
    "response_dict2.keys()"
   ]
  },
  {
   "cell_type": "code",
   "execution_count": 12,
   "id": "ceb0f7b9-b82c-412c-a620-1c6e518b0850",
   "metadata": {},
   "outputs": [
    {
     "data": {
      "text/plain": [
       "dict_keys(['error', 'limit', 'offset', 'number_of_page_results', 'number_of_total_results', 'status_code', 'results', 'version'])"
      ]
     },
     "execution_count": 12,
     "metadata": {},
     "output_type": "execute_result"
    }
   ],
   "source": [
    "response_dict3 = json.loads(response3.text)\n",
    "response_dict3.keys()"
   ]
  },
  {
   "cell_type": "code",
   "execution_count": 13,
   "id": "248ffe5c-6f68-487b-b1f5-32a5d30eafcb",
   "metadata": {},
   "outputs": [
    {
     "data": {
      "text/plain": [
       "dict_keys(['error', 'limit', 'offset', 'number_of_page_results', 'number_of_total_results', 'status_code', 'results', 'version'])"
      ]
     },
     "execution_count": 13,
     "metadata": {},
     "output_type": "execute_result"
    }
   ],
   "source": [
    "response_dict4 = json.loads(response4.text)\n",
    "response_dict4.keys()"
   ]
  },
  {
   "cell_type": "code",
   "execution_count": null,
   "id": "da7243e4-f028-495f-9188-dcd621cb1b36",
   "metadata": {},
   "outputs": [],
   "source": [
    "df1 = pd.DataFrame(response_dict1['results'])\n",
    "df1.head()"
   ]
  },
  {
   "cell_type": "code",
   "execution_count": null,
   "id": "8682b4b0-c213-49f3-9100-396e24c733b6",
   "metadata": {},
   "outputs": [],
   "source": [
    "df2 = pd.DataFrame(response_dict2['results'])\n",
    "df2.head()"
   ]
  },
  {
   "cell_type": "code",
   "execution_count": null,
   "id": "43fdd51b-f6d6-4280-a79a-5c828642c393",
   "metadata": {},
   "outputs": [],
   "source": [
    "df3 = pd.DataFrame(response_dict3['results'])\n",
    "df3.head()"
   ]
  },
  {
   "cell_type": "code",
   "execution_count": null,
   "id": "734079f5-5dfe-4478-924c-ff5eb6323114",
   "metadata": {},
   "outputs": [],
   "source": [
    "df4 = pd.DataFrame(response_dict4['results'])\n",
    "df4.head()"
   ]
  },
  {
   "cell_type": "code",
   "execution_count": 18,
   "id": "fc516c2b-f28f-48a5-b818-8f290dad9bae",
   "metadata": {},
   "outputs": [
    {
     "data": {
      "text/html": [
       "<div>\n",
       "<style scoped>\n",
       "    .dataframe tbody tr th:only-of-type {\n",
       "        vertical-align: middle;\n",
       "    }\n",
       "\n",
       "    .dataframe tbody tr th {\n",
       "        vertical-align: top;\n",
       "    }\n",
       "\n",
       "    .dataframe thead th {\n",
       "        text-align: right;\n",
       "    }\n",
       "</style>\n",
       "<table border=\"1\" class=\"dataframe\">\n",
       "  <thead>\n",
       "    <tr style=\"text-align: right;\">\n",
       "      <th></th>\n",
       "      <th>publish_date</th>\n",
       "      <th>update_date</th>\n",
       "      <th>review_type</th>\n",
       "      <th>id</th>\n",
       "      <th>authors</th>\n",
       "      <th>title</th>\n",
       "      <th>image</th>\n",
       "      <th>score</th>\n",
       "      <th>deck</th>\n",
       "      <th>good</th>\n",
       "      <th>bad</th>\n",
       "      <th>body</th>\n",
       "      <th>lede</th>\n",
       "      <th>game</th>\n",
       "      <th>releases</th>\n",
       "      <th>site_detail_url</th>\n",
       "      <th>videos_api_url</th>\n",
       "    </tr>\n",
       "  </thead>\n",
       "  <tbody>\n",
       "    <tr>\n",
       "      <th>0</th>\n",
       "      <td>2005-08-25 03:52:00</td>\n",
       "      <td>2006-08-29 01:19:19</td>\n",
       "      <td>primary</td>\n",
       "      <td>6152120</td>\n",
       "      <td>Greg Mueller</td>\n",
       "      <td>Super Collapse! II Review</td>\n",
       "      <td>{'square_tiny': 'https://www.gamespot.com/a/up...</td>\n",
       "      <td>0.0</td>\n",
       "      <td>With four different game modes, Super Collapse...</td>\n",
       "      <td>Fun, addictive gameplay|Four puzzle modes to c...</td>\n",
       "      <td>Only 10 puzzles in puzzle mode|Music gets repe...</td>\n",
       "      <td>&lt;p&gt;  Super Collapse! II is a fast-paced, addic...</td>\n",
       "      <td>With four different game modes, Super Collapse...</td>\n",
       "      <td>{'id': 21196, 'name': 'Super Collapse II', 'ap...</td>\n",
       "      <td>[{'upc': None, 'distribution_type': 'Online', ...</td>\n",
       "      <td>https://www.gamespot.com/reviews/super-collaps...</td>\n",
       "      <td>NaN</td>\n",
       "    </tr>\n",
       "    <tr>\n",
       "      <th>1</th>\n",
       "      <td>2004-01-14 05:45:11</td>\n",
       "      <td>2004-01-14 05:45:11</td>\n",
       "      <td>primary</td>\n",
       "      <td>6086528</td>\n",
       "      <td>Alex Navarro</td>\n",
       "      <td>Big Rigs: Over the Road Racing Review</td>\n",
       "      <td>{'square_tiny': 'https://www.gamespot.com/a/up...</td>\n",
       "      <td>1.0</td>\n",
       "      <td>Just how bad is Big Rigs: Over the Road Racing...</td>\n",
       "      <td></td>\n",
       "      <td></td>\n",
       "      <td>&lt;p&gt;  Bad games are released all the time, and ...</td>\n",
       "      <td>Just how bad is Big Rigs: Over the Road Racing...</td>\n",
       "      <td>{'id': 20030, 'name': 'Big Rigs: Over the Road...</td>\n",
       "      <td>[{'upc': '834656000905', 'distribution_type': ...</td>\n",
       "      <td>https://www.gamespot.com/reviews/big-rigs-over...</td>\n",
       "      <td>https://www.gamespot.com/api/videos/?filter=id...</td>\n",
       "    </tr>\n",
       "    <tr>\n",
       "      <th>2</th>\n",
       "      <td>2003-03-18 02:31:17</td>\n",
       "      <td>2003-03-18 02:31:17</td>\n",
       "      <td>primary</td>\n",
       "      <td>6023405</td>\n",
       "      <td>Andrew Park</td>\n",
       "      <td>Gods and Generals Review</td>\n",
       "      <td>{'square_tiny': 'https://www.gamespot.com/a/up...</td>\n",
       "      <td>1.2</td>\n",
       "      <td>It's difficult to imagine that Gods and Genera...</td>\n",
       "      <td></td>\n",
       "      <td></td>\n",
       "      <td>&lt;p&gt; You've probably heard from someone before ...</td>\n",
       "      <td>It's difficult to imagine that Gods and Genera...</td>\n",
       "      <td>{'id': 18138, 'name': 'Gods and Generals', 'ap...</td>\n",
       "      <td>[{'upc': '047875312791', 'distribution_type': ...</td>\n",
       "      <td>https://www.gamespot.com/reviews/gods-and-gene...</td>\n",
       "      <td>https://www.gamespot.com/api/videos/?filter=id...</td>\n",
       "    </tr>\n",
       "    <tr>\n",
       "      <th>3</th>\n",
       "      <td>2003-03-25 04:12:15</td>\n",
       "      <td>2003-03-25 04:12:15</td>\n",
       "      <td>primary</td>\n",
       "      <td>6023928</td>\n",
       "      <td>Ryan Davis</td>\n",
       "      <td>Dragon Ball Z Ultimate Battle 22 Review</td>\n",
       "      <td>{'square_tiny': 'https://www.gamespot.com/a/up...</td>\n",
       "      <td>1.2</td>\n",
       "      <td>If you're unfamiliar with Dragon Ball Z, you'r...</td>\n",
       "      <td></td>\n",
       "      <td></td>\n",
       "      <td>&lt;p&gt; Since there's probably some confusion abou...</td>\n",
       "      <td>If you're unfamiliar with Dragon Ball Z, you'r...</td>\n",
       "      <td>{'id': 10162, 'name': 'Dragon Ball Z: Ultimate...</td>\n",
       "      <td>[{'upc': '742725246638', 'distribution_type': ...</td>\n",
       "      <td>https://www.gamespot.com/reviews/dragon-ball-z...</td>\n",
       "      <td>https://www.gamespot.com/api/videos/?filter=id...</td>\n",
       "    </tr>\n",
       "    <tr>\n",
       "      <th>4</th>\n",
       "      <td>2001-05-01 06:04:11</td>\n",
       "      <td>2006-05-17 03:09:03</td>\n",
       "      <td>primary</td>\n",
       "      <td>2714466</td>\n",
       "      <td>Jeff Gerstmann</td>\n",
       "      <td>KISS Pinball Review</td>\n",
       "      <td>{'square_tiny': 'https://www.gamespot.com/a/up...</td>\n",
       "      <td>1.3</td>\n",
       "      <td>KISS fans will be disappointed by the distinct...</td>\n",
       "      <td></td>\n",
       "      <td></td>\n",
       "      <td>&lt;p&gt;KISS Pinball is the latest in Take-Two Inte...</td>\n",
       "      <td>KISS fans will be disappointed by the distinct...</td>\n",
       "      <td>{'id': 3492, 'name': 'KISS Pinball', 'api_deta...</td>\n",
       "      <td>[{'upc': '710425230776', 'distribution_type': ...</td>\n",
       "      <td>https://www.gamespot.com/reviews/kiss-pinball-...</td>\n",
       "      <td>NaN</td>\n",
       "    </tr>\n",
       "    <tr>\n",
       "      <th>...</th>\n",
       "      <td>...</td>\n",
       "      <td>...</td>\n",
       "      <td>...</td>\n",
       "      <td>...</td>\n",
       "      <td>...</td>\n",
       "      <td>...</td>\n",
       "      <td>...</td>\n",
       "      <td>...</td>\n",
       "      <td>...</td>\n",
       "      <td>...</td>\n",
       "      <td>...</td>\n",
       "      <td>...</td>\n",
       "      <td>...</td>\n",
       "      <td>...</td>\n",
       "      <td>...</td>\n",
       "      <td>...</td>\n",
       "      <td>...</td>\n",
       "    </tr>\n",
       "    <tr>\n",
       "      <th>95</th>\n",
       "      <td>2006-03-25 04:26:47</td>\n",
       "      <td>2006-03-25 04:26:47</td>\n",
       "      <td>primary</td>\n",
       "      <td>6146661</td>\n",
       "      <td>Greg Kasavin</td>\n",
       "      <td>The Elder Scrolls IV: Oblivion Review</td>\n",
       "      <td>{'square_tiny': 'https://www.gamespot.com/a/up...</td>\n",
       "      <td>9.3</td>\n",
       "      <td>The Elder Scrolls IV: Oblivion is simply one o...</td>\n",
       "      <td>Huge, lavishly detailed world offers tremendou...</td>\n",
       "      <td>Frequent though fairly brief loading times|You...</td>\n",
       "      <td>&lt;p&gt;  This is a rare and remarkable achievement...</td>\n",
       "      <td>The Elder Scrolls IV: Oblivion is simply one o...</td>\n",
       "      <td>{'id': 22229, 'name': 'The Elder Scrolls IV: O...</td>\n",
       "      <td>[{'upc': '5026555039765', 'distribution_type':...</td>\n",
       "      <td>https://www.gamespot.com/reviews/the-elder-scr...</td>\n",
       "      <td>https://www.gamespot.com/api/videos/?filter=id...</td>\n",
       "    </tr>\n",
       "    <tr>\n",
       "      <th>96</th>\n",
       "      <td>2001-11-19 06:15:03</td>\n",
       "      <td>2001-11-19 06:15:03</td>\n",
       "      <td>primary</td>\n",
       "      <td>2825778</td>\n",
       "      <td>Gord Goble</td>\n",
       "      <td>FIFA 2002 Review</td>\n",
       "      <td>{'square_tiny': 'https://www.gamespot.com/a/up...</td>\n",
       "      <td>9.3</td>\n",
       "      <td>Fans of real-life soccer will find this the mo...</td>\n",
       "      <td></td>\n",
       "      <td></td>\n",
       "      <td>&lt;p&gt;Those who hammer the buttons on their gamep...</td>\n",
       "      <td>Fans of real-life soccer will find this the mo...</td>\n",
       "      <td>{'id': 3798, 'name': 'FIFA 2002', 'api_detail_...</td>\n",
       "      <td>[{'upc': '014633143287', 'distribution_type': ...</td>\n",
       "      <td>https://www.gamespot.com/reviews/fifa-2002-rev...</td>\n",
       "      <td>NaN</td>\n",
       "    </tr>\n",
       "    <tr>\n",
       "      <th>97</th>\n",
       "      <td>2005-02-04 06:00:12</td>\n",
       "      <td>2006-05-17 03:08:41</td>\n",
       "      <td>secondary</td>\n",
       "      <td>6118013</td>\n",
       "      <td>Justin Calvert</td>\n",
       "      <td>World Soccer Winning Eleven 8 International Re...</td>\n",
       "      <td>{'square_tiny': 'https://www.gamespot.com/a/up...</td>\n",
       "      <td>9.3</td>\n",
       "      <td>World Soccer Winning Eleven 8 International is...</td>\n",
       "      <td>Excellent career mode|Believable ball physics ...</td>\n",
       "      <td>Lots of unlicensed teams|No Bolton Wanderers</td>\n",
       "      <td>&lt;p&gt;  Konami's Winning Eleven games have never ...</td>\n",
       "      <td>World Soccer Winning Eleven 8 International is...</td>\n",
       "      <td>{'id': 20995, 'name': 'World Soccer Winning El...</td>\n",
       "      <td>[{'upc': None, 'distribution_type': 'Retail', ...</td>\n",
       "      <td>https://www.gamespot.com/reviews/world-soccer-...</td>\n",
       "      <td>https://www.gamespot.com/api/videos/?filter=id...</td>\n",
       "    </tr>\n",
       "    <tr>\n",
       "      <th>98</th>\n",
       "      <td>2005-10-24 05:54:00</td>\n",
       "      <td>2005-10-24 05:54:00</td>\n",
       "      <td>secondary</td>\n",
       "      <td>6136415</td>\n",
       "      <td>Greg Kasavin</td>\n",
       "      <td>Resident Evil 4 Review</td>\n",
       "      <td>{'square_tiny': 'https://www.gamespot.com/a/up...</td>\n",
       "      <td>9.3</td>\n",
       "      <td>Originally released for the GameCube, Resident...</td>\n",
       "      <td>Incredibly amazing audiovisual presentation|Ex...</td>\n",
       "      <td>Some uncharacteristically goofy dialogue|A cou...</td>\n",
       "      <td>&lt;p&gt;  Since its debut on the PlayStation in 199...</td>\n",
       "      <td>Originally released for the GameCube, Resident...</td>\n",
       "      <td>{'id': 3941, 'name': 'Resident Evil 4 (2005)',...</td>\n",
       "      <td>[{'upc': '4976219038546', 'distribution_type':...</td>\n",
       "      <td>https://www.gamespot.com/reviews/resident-evil...</td>\n",
       "      <td>https://www.gamespot.com/api/videos/?filter=id...</td>\n",
       "    </tr>\n",
       "    <tr>\n",
       "      <th>99</th>\n",
       "      <td>2005-03-21 12:00:28</td>\n",
       "      <td>2005-03-21 12:00:28</td>\n",
       "      <td>primary</td>\n",
       "      <td>6120758</td>\n",
       "      <td>Alex Navarro</td>\n",
       "      <td>God of War Review</td>\n",
       "      <td>{'square_tiny': 'https://www.gamespot.com/a/up...</td>\n",
       "      <td>9.3</td>\n",
       "      <td>God of War is one of the best action adventure...</td>\n",
       "      <td>An excellent, variety-filled combat system wit...</td>\n",
       "      <td>Combat can occasionally get away from you and ...</td>\n",
       "      <td>&lt;p&gt;  Action adventure games of the quality of ...</td>\n",
       "      <td>God of War is one of the best action adventure...</td>\n",
       "      <td>{'id': 20282, 'name': 'God of War (2005)', 'ap...</td>\n",
       "      <td>[{'upc': None, 'distribution_type': 'Retail', ...</td>\n",
       "      <td>https://www.gamespot.com/reviews/god-of-war-re...</td>\n",
       "      <td>https://www.gamespot.com/api/videos/?filter=id...</td>\n",
       "    </tr>\n",
       "  </tbody>\n",
       "</table>\n",
       "<p>200 rows × 17 columns</p>\n",
       "</div>"
      ],
      "text/plain": [
       "           publish_date          update_date review_type       id  \\\n",
       "0   2005-08-25 03:52:00  2006-08-29 01:19:19     primary  6152120   \n",
       "1   2004-01-14 05:45:11  2004-01-14 05:45:11     primary  6086528   \n",
       "2   2003-03-18 02:31:17  2003-03-18 02:31:17     primary  6023405   \n",
       "3   2003-03-25 04:12:15  2003-03-25 04:12:15     primary  6023928   \n",
       "4   2001-05-01 06:04:11  2006-05-17 03:09:03     primary  2714466   \n",
       "..                  ...                  ...         ...      ...   \n",
       "95  2006-03-25 04:26:47  2006-03-25 04:26:47     primary  6146661   \n",
       "96  2001-11-19 06:15:03  2001-11-19 06:15:03     primary  2825778   \n",
       "97  2005-02-04 06:00:12  2006-05-17 03:08:41   secondary  6118013   \n",
       "98  2005-10-24 05:54:00  2005-10-24 05:54:00   secondary  6136415   \n",
       "99  2005-03-21 12:00:28  2005-03-21 12:00:28     primary  6120758   \n",
       "\n",
       "           authors                                              title  \\\n",
       "0     Greg Mueller                          Super Collapse! II Review   \n",
       "1     Alex Navarro              Big Rigs: Over the Road Racing Review   \n",
       "2      Andrew Park                           Gods and Generals Review   \n",
       "3       Ryan Davis            Dragon Ball Z Ultimate Battle 22 Review   \n",
       "4   Jeff Gerstmann                                KISS Pinball Review   \n",
       "..             ...                                                ...   \n",
       "95    Greg Kasavin              The Elder Scrolls IV: Oblivion Review   \n",
       "96      Gord Goble                                   FIFA 2002 Review   \n",
       "97  Justin Calvert  World Soccer Winning Eleven 8 International Re...   \n",
       "98    Greg Kasavin                             Resident Evil 4 Review   \n",
       "99    Alex Navarro                                  God of War Review   \n",
       "\n",
       "                                                image score  \\\n",
       "0   {'square_tiny': 'https://www.gamespot.com/a/up...   0.0   \n",
       "1   {'square_tiny': 'https://www.gamespot.com/a/up...   1.0   \n",
       "2   {'square_tiny': 'https://www.gamespot.com/a/up...   1.2   \n",
       "3   {'square_tiny': 'https://www.gamespot.com/a/up...   1.2   \n",
       "4   {'square_tiny': 'https://www.gamespot.com/a/up...   1.3   \n",
       "..                                                ...   ...   \n",
       "95  {'square_tiny': 'https://www.gamespot.com/a/up...   9.3   \n",
       "96  {'square_tiny': 'https://www.gamespot.com/a/up...   9.3   \n",
       "97  {'square_tiny': 'https://www.gamespot.com/a/up...   9.3   \n",
       "98  {'square_tiny': 'https://www.gamespot.com/a/up...   9.3   \n",
       "99  {'square_tiny': 'https://www.gamespot.com/a/up...   9.3   \n",
       "\n",
       "                                                 deck  \\\n",
       "0   With four different game modes, Super Collapse...   \n",
       "1   Just how bad is Big Rigs: Over the Road Racing...   \n",
       "2   It's difficult to imagine that Gods and Genera...   \n",
       "3   If you're unfamiliar with Dragon Ball Z, you'r...   \n",
       "4   KISS fans will be disappointed by the distinct...   \n",
       "..                                                ...   \n",
       "95  The Elder Scrolls IV: Oblivion is simply one o...   \n",
       "96  Fans of real-life soccer will find this the mo...   \n",
       "97  World Soccer Winning Eleven 8 International is...   \n",
       "98  Originally released for the GameCube, Resident...   \n",
       "99  God of War is one of the best action adventure...   \n",
       "\n",
       "                                                 good  \\\n",
       "0   Fun, addictive gameplay|Four puzzle modes to c...   \n",
       "1                                                       \n",
       "2                                                       \n",
       "3                                                       \n",
       "4                                                       \n",
       "..                                                ...   \n",
       "95  Huge, lavishly detailed world offers tremendou...   \n",
       "96                                                      \n",
       "97  Excellent career mode|Believable ball physics ...   \n",
       "98  Incredibly amazing audiovisual presentation|Ex...   \n",
       "99  An excellent, variety-filled combat system wit...   \n",
       "\n",
       "                                                  bad  \\\n",
       "0   Only 10 puzzles in puzzle mode|Music gets repe...   \n",
       "1                                                       \n",
       "2                                                       \n",
       "3                                                       \n",
       "4                                                       \n",
       "..                                                ...   \n",
       "95  Frequent though fairly brief loading times|You...   \n",
       "96                                                      \n",
       "97       Lots of unlicensed teams|No Bolton Wanderers   \n",
       "98  Some uncharacteristically goofy dialogue|A cou...   \n",
       "99  Combat can occasionally get away from you and ...   \n",
       "\n",
       "                                                 body  \\\n",
       "0   <p>  Super Collapse! II is a fast-paced, addic...   \n",
       "1   <p>  Bad games are released all the time, and ...   \n",
       "2   <p> You've probably heard from someone before ...   \n",
       "3   <p> Since there's probably some confusion abou...   \n",
       "4   <p>KISS Pinball is the latest in Take-Two Inte...   \n",
       "..                                                ...   \n",
       "95  <p>  This is a rare and remarkable achievement...   \n",
       "96  <p>Those who hammer the buttons on their gamep...   \n",
       "97  <p>  Konami's Winning Eleven games have never ...   \n",
       "98  <p>  Since its debut on the PlayStation in 199...   \n",
       "99  <p>  Action adventure games of the quality of ...   \n",
       "\n",
       "                                                 lede  \\\n",
       "0   With four different game modes, Super Collapse...   \n",
       "1   Just how bad is Big Rigs: Over the Road Racing...   \n",
       "2   It's difficult to imagine that Gods and Genera...   \n",
       "3   If you're unfamiliar with Dragon Ball Z, you'r...   \n",
       "4   KISS fans will be disappointed by the distinct...   \n",
       "..                                                ...   \n",
       "95  The Elder Scrolls IV: Oblivion is simply one o...   \n",
       "96  Fans of real-life soccer will find this the mo...   \n",
       "97  World Soccer Winning Eleven 8 International is...   \n",
       "98  Originally released for the GameCube, Resident...   \n",
       "99  God of War is one of the best action adventure...   \n",
       "\n",
       "                                                 game  \\\n",
       "0   {'id': 21196, 'name': 'Super Collapse II', 'ap...   \n",
       "1   {'id': 20030, 'name': 'Big Rigs: Over the Road...   \n",
       "2   {'id': 18138, 'name': 'Gods and Generals', 'ap...   \n",
       "3   {'id': 10162, 'name': 'Dragon Ball Z: Ultimate...   \n",
       "4   {'id': 3492, 'name': 'KISS Pinball', 'api_deta...   \n",
       "..                                                ...   \n",
       "95  {'id': 22229, 'name': 'The Elder Scrolls IV: O...   \n",
       "96  {'id': 3798, 'name': 'FIFA 2002', 'api_detail_...   \n",
       "97  {'id': 20995, 'name': 'World Soccer Winning El...   \n",
       "98  {'id': 3941, 'name': 'Resident Evil 4 (2005)',...   \n",
       "99  {'id': 20282, 'name': 'God of War (2005)', 'ap...   \n",
       "\n",
       "                                             releases  \\\n",
       "0   [{'upc': None, 'distribution_type': 'Online', ...   \n",
       "1   [{'upc': '834656000905', 'distribution_type': ...   \n",
       "2   [{'upc': '047875312791', 'distribution_type': ...   \n",
       "3   [{'upc': '742725246638', 'distribution_type': ...   \n",
       "4   [{'upc': '710425230776', 'distribution_type': ...   \n",
       "..                                                ...   \n",
       "95  [{'upc': '5026555039765', 'distribution_type':...   \n",
       "96  [{'upc': '014633143287', 'distribution_type': ...   \n",
       "97  [{'upc': None, 'distribution_type': 'Retail', ...   \n",
       "98  [{'upc': '4976219038546', 'distribution_type':...   \n",
       "99  [{'upc': None, 'distribution_type': 'Retail', ...   \n",
       "\n",
       "                                      site_detail_url  \\\n",
       "0   https://www.gamespot.com/reviews/super-collaps...   \n",
       "1   https://www.gamespot.com/reviews/big-rigs-over...   \n",
       "2   https://www.gamespot.com/reviews/gods-and-gene...   \n",
       "3   https://www.gamespot.com/reviews/dragon-ball-z...   \n",
       "4   https://www.gamespot.com/reviews/kiss-pinball-...   \n",
       "..                                                ...   \n",
       "95  https://www.gamespot.com/reviews/the-elder-scr...   \n",
       "96  https://www.gamespot.com/reviews/fifa-2002-rev...   \n",
       "97  https://www.gamespot.com/reviews/world-soccer-...   \n",
       "98  https://www.gamespot.com/reviews/resident-evil...   \n",
       "99  https://www.gamespot.com/reviews/god-of-war-re...   \n",
       "\n",
       "                                       videos_api_url  \n",
       "0                                                 NaN  \n",
       "1   https://www.gamespot.com/api/videos/?filter=id...  \n",
       "2   https://www.gamespot.com/api/videos/?filter=id...  \n",
       "3   https://www.gamespot.com/api/videos/?filter=id...  \n",
       "4                                                 NaN  \n",
       "..                                                ...  \n",
       "95  https://www.gamespot.com/api/videos/?filter=id...  \n",
       "96                                                NaN  \n",
       "97  https://www.gamespot.com/api/videos/?filter=id...  \n",
       "98  https://www.gamespot.com/api/videos/?filter=id...  \n",
       "99  https://www.gamespot.com/api/videos/?filter=id...  \n",
       "\n",
       "[200 rows x 17 columns]"
      ]
     },
     "execution_count": 18,
     "metadata": {},
     "output_type": "execute_result"
    }
   ],
   "source": [
    "data_past = pd.concat([df1, df2])\n",
    "data_past"
   ]
  },
  {
   "cell_type": "code",
   "execution_count": null,
   "id": "26d5ec23-206e-4e97-b7ab-8b0ebcf1b501",
   "metadata": {},
   "outputs": [],
   "source": [
    "data_past_final = data_past.drop(columns = ['review_type', 'deck', 'body', 'lede', 'image', 'videos_api_url', 'site_detail_url'])\n",
    "t_response = t_response.dropna()\n",
    "t_response_df = pd.DataFrame(t_response['game'].to_list())\n",
    "t_response['game_id'] = t_response_df['id']\n",
    "t_response['game_name'] = t_response_df['name']\n",
    "data_past_final"
   ]
  },
  {
   "cell_type": "code",
   "execution_count": null,
   "id": "6c53d890-60e0-4116-96a6-113ced8c20eb",
   "metadata": {},
   "outputs": [],
   "source": [
    "data_pres = pd.concat([df3, df4])\n",
    "data_pres"
   ]
  },
  {
   "cell_type": "code",
   "execution_count": null,
   "id": "54e9d44a-b1c2-467f-bfd2-4bd5181c2fbc",
   "metadata": {},
   "outputs": [],
   "source": [
    "data_pres_final = data_pres.drop(columns = ['review_type', 'deck', 'body', 'lede', 'image', 'movie', 'television', 'videos_api_url', 'site_detail_url'])\n",
    "t_response1 = t_response1.dropna()\n",
    "t_response_df1 = pd.DataFrame(t_response['game'].to_list())\n",
    "t_response1['game_id'] = t_response_df1['id']\n",
    "t_response1['game_name'] = t_response_df1['name']\n",
    "data_pres_final"
   ]
  },
  {
   "cell_type": "code",
   "execution_count": 24,
   "id": "316972ad-d475-4b39-9134-17e5125219cf",
   "metadata": {},
   "outputs": [
    {
     "data": {
      "text/plain": [
       "score\n",
       "1.0      4\n",
       "1.5      3\n",
       "10.0    26\n",
       "2.0     32\n",
       "2.5      9\n",
       "3.0     52\n",
       "9.0     61\n",
       "9.5     13\n",
       "Name: id, dtype: int64"
      ]
     },
     "execution_count": 24,
     "metadata": {},
     "output_type": "execute_result"
    }
   ],
   "source": [
    "data_pres_final.groupby('score')['id'].count()"
   ]
  },
  {
   "cell_type": "code",
   "execution_count": null,
   "id": "7243f7f6-b025-4ac3-a353-912cfd2022ee",
   "metadata": {},
   "outputs": [],
   "source": [
    "import math"
   ]
  },
  {
   "cell_type": "code",
   "execution_count": null,
   "id": "3ca5b120-703b-4114-b4ac-2cc8e5be95ed",
   "metadata": {},
   "outputs": [],
   "source": [
    "[x if x != test[13] else {'id':None, 'name':None,'api_detail_url':None, 'site_detail_url':None} for x in test]"
   ]
  },
  {
   "cell_type": "code",
   "execution_count": null,
   "id": "ea9fff63-8b4b-47da-b4e1-849d04726f6b",
   "metadata": {},
   "outputs": [],
   "source": [
    "test[13]"
   ]
  },
  {
   "cell_type": "code",
   "execution_count": 32,
   "id": "9bfced62-dbe8-401b-b912-8c4d55381881",
   "metadata": {},
   "outputs": [
    {
     "data": {
      "image/png": "[encoded data removed]",
      "text/plain": [
       "<Figure size 1200x500 with 2 Axes>"
      ]
     },
     "metadata": {},
     "output_type": "display_data"
    }
   ],
   "source": [
    "fig1, ax1 = plt.subplots(1,2, figsize = (12,5))\n",
    "\n",
    "ax1[0].hist(df1['score'], color = 'red')\n",
    "ax1[1].hist(df2['score'], color = 'blue')\n",
    "\n",
    "plt.suptitle('Pas Games', fontsize=16)\n",
    "\n",
    "ax1[0].set_title('Bottom Scores')\n",
    "ax1[1].set_title('Top Scores')\n",
    "\n",
    "ax1[0].set_xlabel('Score')\n",
    "ax1[0].set_ylabel('Number of Scores')\n",
    "\n",
    "ax1[1].set_xlabel('Score')\n",
    "ax1[1].set_ylabel('Number of Scores')\n",
    "\n",
    "plt.show()"
   ]
  },
  {
   "cell_type": "code",
   "execution_count": 31,
   "id": "f20badbd-44b6-492b-89be-46dd7eecf76d",
   "metadata": {},
   "outputs": [
    {
     "data": {
      "image/png": "[encoded data removed]",
      "text/plain": [
       "<Figure size 1200x500 with 2 Axes>"
      ]
     },
     "metadata": {},
     "output_type": "display_data"
    }
   ],
   "source": [
    "fig2, ax2 = plt.subplots(1,2, figsize = (12,5))\n",
    "\n",
    "ax2[0].hist(df3['score'], color = 'green')\n",
    "ax2[1].hist(df4['score'], color = 'gold')\n",
    "\n",
    "plt.suptitle('Present Games', fontsize=16)\n",
    "\n",
    "\n",
    "ax2[0].set_title('Bottom Scores')\n",
    "ax2[1].set_title('Top Scores')\n",
    "\n",
    "ax2[0].set_xlabel('Score')\n",
    "ax2[0].set_ylabel('Number of Scores')\n",
    "\n",
    "ax2[1].set_xlabel('Score')\n",
    "ax2[1].set_ylabel('Number of Scores')\n",
    "\n",
    "plt.show()"
   ]
  },
  {
   "cell_type": "code",
   "execution_count": 27,
   "id": "42c36728-9177-40bf-8a05-3dbe292c2e12",
   "metadata": {},
   "outputs": [
    {
     "data": {
      "image/png": "[encoded data removed]",
      "text/plain": [
       "<Figure size 1200x500 with 2 Axes>"
      ]
     },
     "metadata": {},
     "output_type": "display_data"
    }
   ],
   "source": [
    "fig3, ax3 = plt.subplots(1,2, figsize = (12,5))\n",
    "\n",
    "ax2[0].hist(data_past_final['score'], color = 'green')\n",
    "ax2[1].hist(data_pres_final['score'], color = 'gold')\n",
    "\n",
    "\n",
    "ax2[0].set_title('Bottom Scores')\n",
    "ax2[1].set_title('Top Scores')\n",
    "\n",
    "ax2[0].set_xlabel('Score')\n",
    "ax2[0].set_ylabel('Number of Scores')\n",
    "\n",
    "ax2[1].set_xlabel('Score')\n",
    "ax2[1].set_ylabel('Number of Scores')\n",
    "\n",
    "plt.show()"
   ]
  },
  {
   "cell_type": "markdown",
   "id": "11381681-7438-4dca-bf2f-43803843c0e8",
   "metadata": {},
   "source": [
    "Other than a couple minor fixes, I have the data and most of the code that I need to complete my report."
   ]
  },
  {
   "cell_type": "code",
   "execution_count": null,
   "id": "83340bcc-0b2e-4a85-8ff2-0c7c6cca3abb",
   "metadata": {},
   "outputs": [],
   "source": []
  }
 ],
 "metadata": {
  "kernelspec": {
   "display_name": "Python 3 (ipykernel)",
   "language": "python",
   "name": "python3"
  },
  "language_info": {
   "codemirror_mode": {
    "name": "ipython",
    "version": 3
   },
   "file_extension": ".py",
   "mimetype": "text/x-python",
   "name": "python",
   "nbconvert_exporter": "python",
   "pygments_lexer": "ipython3",
   "version": "3.12.4"
  }
 },
 "nbformat": 4,
 "nbformat_minor": 5
}
