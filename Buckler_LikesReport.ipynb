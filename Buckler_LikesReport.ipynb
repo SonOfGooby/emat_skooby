{
 "cells": [
  {
   "cell_type": "markdown",
   "id": "b9293c89-955e-465d-8369-15de39aff815",
   "metadata": {},
   "source": [
    "Alexander Buckler\\\n",
    "9/10/2024\\\n",
    "This data was most likely a result of my activity on Istagram like likes or content. The data was compiled by instagram, but I am the \"creator\" so to speak of the individual posts."
   ]
  },
  {
   "cell_type": "code",
   "execution_count": null,
   "id": "18ea2e43-9087-413b-ac7f-f4118375176a",
   "metadata": {},
   "outputs": [],
   "source": [
    "import json\n",
    "import pandas as pd\n",
    "import matplotlib as plt"
   ]
  },
  {
   "cell_type": "code",
   "execution_count": null,
   "id": "8988834a-6b7b-4d00-931c-4f3304c44ebb",
   "metadata": {},
   "outputs": [],
   "source": [
    "path = r\"C:\\Data Downloads\\Instagram Data\\your_instagram_activity\\likes\\liked_posts.json\"\n",
    "with open(path) as j:\n",
    "    likes = json.load(j)\n",
    "#Loading the file and setting up json functions"
   ]
  },
  {
   "cell_type": "code",
   "execution_count": null,
   "id": "6efb1162-fb4f-4327-9377-f645fa5f3a5f",
   "metadata": {},
   "outputs": [],
   "source": [
    "likes.keys()\n",
    "#Shows categories of data in the file"
   ]
  },
  {
   "cell_type": "code",
   "execution_count": null,
   "id": "de2352ed-646e-4eb6-85fb-de362ba325a5",
   "metadata": {},
   "outputs": [],
   "source": [
    "likes['likes_media_likes']\n",
    "#Explores this category in the file"
   ]
  },
  {
   "cell_type": "code",
   "execution_count": 149,
   "id": "179a1192-07d4-4032-9369-8fd2a0e3d82d",
   "metadata": {},
   "outputs": [
    {
     "data": {
      "text/html": [
       "<div>\n",
       "<style scoped>\n",
       "    .dataframe tbody tr th:only-of-type {\n",
       "        vertical-align: middle;\n",
       "    }\n",
       "\n",
       "    .dataframe tbody tr th {\n",
       "        vertical-align: top;\n",
       "    }\n",
       "\n",
       "    .dataframe thead th {\n",
       "        text-align: right;\n",
       "    }\n",
       "</style>\n",
       "<table border=\"1\" class=\"dataframe\">\n",
       "  <thead>\n",
       "    <tr style=\"text-align: right;\">\n",
       "      <th></th>\n",
       "      <th>title</th>\n",
       "      <th>string_list_data</th>\n",
       "    </tr>\n",
       "  </thead>\n",
       "  <tbody>\n",
       "    <tr>\n",
       "      <th>0</th>\n",
       "      <td>rainbowplugg</td>\n",
       "      <td>[{'href': 'https://www.instagram.com/reel/C9iw...</td>\n",
       "    </tr>\n",
       "    <tr>\n",
       "      <th>1</th>\n",
       "      <td>lobstersexdungeon</td>\n",
       "      <td>[{'href': 'https://www.instagram.com/reel/C-B4...</td>\n",
       "    </tr>\n",
       "    <tr>\n",
       "      <th>2</th>\n",
       "      <td>cheesemachine111</td>\n",
       "      <td>[{'href': 'https://www.instagram.com/p/C9vdUCA...</td>\n",
       "    </tr>\n",
       "    <tr>\n",
       "      <th>3</th>\n",
       "      <td>grantgreenly</td>\n",
       "      <td>[{'href': 'https://www.instagram.com/reel/C8cF...</td>\n",
       "    </tr>\n",
       "    <tr>\n",
       "      <th>4</th>\n",
       "      <td>_markuslarkus30_</td>\n",
       "      <td>[{'href': 'https://www.instagram.com/reel/C5lP...</td>\n",
       "    </tr>\n",
       "  </tbody>\n",
       "</table>\n",
       "</div>"
      ],
      "text/plain": [
       "               title                                   string_list_data\n",
       "0       rainbowplugg  [{'href': 'https://www.instagram.com/reel/C9iw...\n",
       "1  lobstersexdungeon  [{'href': 'https://www.instagram.com/reel/C-B4...\n",
       "2   cheesemachine111  [{'href': 'https://www.instagram.com/p/C9vdUCA...\n",
       "3       grantgreenly  [{'href': 'https://www.instagram.com/reel/C8cF...\n",
       "4   _markuslarkus30_  [{'href': 'https://www.instagram.com/reel/C5lP..."
      ]
     },
     "execution_count": 149,
     "metadata": {},
     "output_type": "execute_result"
    }
   ],
   "source": [
    "likes_df = pd.DataFrame(likes['likes_media_likes'])\n",
    "likes_df.head()\n",
    "#Setting up the likes data frame\n",
    "#Theres only 2 columns?"
   ]
  },
  {
   "cell_type": "code",
   "execution_count": null,
   "id": "0c5df1fc-6c50-4f0f-93d6-46afe0571480",
   "metadata": {},
   "outputs": [],
   "source": [
    "likes_df['string_list_data']"
   ]
  },
  {
   "cell_type": "code",
   "execution_count": null,
   "id": "03d6fbe2-99cf-46f0-95fe-ed6dc4619f61",
   "metadata": {},
   "outputs": [],
   "source": [
    "likes_df['string_list_data'].iloc[0][0]\n",
    "\n",
    "#We discussed this in class and it helped me to find the timestamp values."
   ]
  },
  {
   "cell_type": "code",
   "execution_count": null,
   "id": "1258343b-f690-4239-8c29-11a7b67bc425",
   "metadata": {},
   "outputs": [],
   "source": [
    "likes_df['timestamp'] = [x[0]['timestamp'] for x in likes_df['string_list_data']]\n",
    "\n",
    "#Did not think of this option until we discussed it, now to figure out how to group these values."
   ]
  },
  {
   "cell_type": "code",
   "execution_count": null,
   "id": "20ca4fe6-9a7a-4c61-9e54-942c60930bce",
   "metadata": {},
   "outputs": [],
   "source": [
    "likes_df"
   ]
  },
  {
   "cell_type": "code",
   "execution_count": null,
   "id": "2ec64f59-5b97-43c1-94e4-736b2bba1224",
   "metadata": {},
   "outputs": [],
   "source": [
    "likes_df.groupby('title').count().sort_values('string_list_data', ascending = False).head(10).plot(kind = 'bar')\n",
    "\n",
    "#Attempting to figure out how to turn this into an ordered list.\n",
    "#I used the bar that we made in class on 9-5 and learned that this specific bar plot splits the line into two categories per title which i think is super neat :D."
   ]
  },
  {
   "cell_type": "markdown",
   "id": "3cd2b13f-2077-4dad-a5ad-f9642b0e281d",
   "metadata": {},
   "source": [
    "My hypothesis for this data is that I tend to gravitate towards entertainment rather than politics when it comes to social media consumption."
   ]
  },
  {
   "cell_type": "code",
   "execution_count": null,
   "id": "c10f80e8-8f9b-4e43-95d1-85a0b69e813d",
   "metadata": {},
   "outputs": [],
   "source": [
    "path2 = r\"C:\\Data Downloads\\Instagram Data\\your_instagram_activity\\content\\archived_posts.json\" \n",
    "with open(path2) as t:\n",
    "    post = json.load(t)\n",
    "\n",
    "#I am running into an error when running the tiktok file despite it being the same as the first json file.\n",
    "    #I have done all that I can to alter it but nothing worked so I am switching to a different file that runs.\n",
    "#I am pretty sure that this file is going to have information about all of my archived posts like when it was posted and maybe when it was archived or how many likes it got."
   ]
  },
  {
   "cell_type": "code",
   "execution_count": null,
   "id": "c6fd6e3d-92ee-4e34-98ef-6eb644fcd0bb",
   "metadata": {},
   "outputs": [],
   "source": [
    "post.keys()"
   ]
  },
  {
   "cell_type": "code",
   "execution_count": null,
   "id": "de137b1e-353b-41e1-af57-0e038de618f1",
   "metadata": {},
   "outputs": [],
   "source": [
    "post['ig_archived_post_media']"
   ]
  },
  {
   "cell_type": "code",
   "execution_count": null,
   "id": "b221fedb-8b02-4275-82ee-866f4f820397",
   "metadata": {},
   "outputs": [],
   "source": [
    "post_df = pd.DataFrame(post['ig_archived_post_media'])\n",
    "post_df\n",
    "#For whatever reason, the titles of the posts will not show up in a list, even though I can see the titles of the posts in the actual file's code.\n",
    "#I have tried everything that I can do and know how to do in order to bring up the titles, but it keeps giving errors.\n",
    "#Despite this, I can see the titles of the individual posts and know how to create a tidy DataFrame"
   ]
  },
  {
   "cell_type": "code",
   "execution_count": null,
   "id": "3c1cfb41-8774-4396-b1a5-8ef9c9e113da",
   "metadata": {},
   "outputs": [],
   "source": [
    "post_df_tidy = post_df.drop(columns = ['creation_timestamp'])"
   ]
  },
  {
   "cell_type": "code",
   "execution_count": null,
   "id": "6f7e4749-cb42-47be-bb87-bf9aeb6c20e2",
   "metadata": {},
   "outputs": [],
   "source": [
    "post_df_tidy.head(10)"
   ]
  },
  {
   "cell_type": "markdown",
   "id": "9fc0778b-fb04-418f-9061-f7b52b064f92",
   "metadata": {},
   "source": [
    "The data from the files is a little conflicting when it comes to my hypothesis, as the most amount of likes on my account have been based\\\n",
    "on politics, however almost everything else that I have liked has been video game related accounts. Based on this and my archived\\\n",
    "Instagram posts, I can say that the trends of my activity on Instagram are mostly leisure and entertainment based posts and profiles.\n",
    "\n",
    "Some things that are still not clear to me about the data is how it is organized, and how I could potentially improve my data collection.\\\n",
    "The area that gave me the most trouble when sorting through this data came down to putting the titles of the posts into the DataFrame\\\n",
    "which ended up failing. I want to figure out whether it is a fault in my coding or if my code is not aligning with something in the file.\n"
   ]
  }
 ],
 "metadata": {
  "kernelspec": {
   "display_name": "Python 3 (ipykernel)",
   "language": "python",
   "name": "python3"
  },
  "language_info": {
   "codemirror_mode": {
    "name": "ipython",
    "version": 3
   },
   "file_extension": ".py",
   "mimetype": "text/x-python",
   "name": "python",
   "nbconvert_exporter": "python",
   "pygments_lexer": "ipython3",
   "version": "3.12.4"
  }
 },
 "nbformat": 4,
 "nbformat_minor": 5
}
