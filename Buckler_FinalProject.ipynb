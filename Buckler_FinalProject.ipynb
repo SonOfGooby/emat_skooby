{
 "cells": [
  {
   "cell_type": "markdown",
   "id": "ad53d413-7cf6-4ff9-880b-bb409143de2c",
   "metadata": {},
   "source": [
    "# __How Do People Feel About New Video Games Versus Old Video Games?__"
   ]
  },
  {
   "cell_type": "markdown",
   "id": "ffd230ab-3d94-4b32-9372-0770e70d6440",
   "metadata": {},
   "source": [
    "_In today's age, video games are an extremely common hobby around the world. It can provide a sense of fun, distraction, and community for the people who play them. However, I have noticed that a lot of people will say negative things about modern gaming. They say that \"new games are bad\" and \"the games don't have spirit in them\", and \"gaming used to be good\". This got me wondering, are new games actually as unfavorable as older games? I want to find out whether or not modern video games are actually as unfavorable as people seem to say, or if people are looking at older games with rose tinted glasses._"
   ]
  },
  {
   "cell_type": "markdown",
   "id": "1f1d570a-e5c7-49ba-87a9-366fc43b4619",
   "metadata": {},
   "source": [
    "_To do this, I will be comparing the reviews of games from Metacritic to get a general consensus on how people feel about old versus new video games._\n",
    "\n",
    "I will start off by importing the tools that I need to complete this analysis."
   ]
  },
  {
   "cell_type": "code",
   "execution_count": 3,
   "id": "3af9c30c-c826-43aa-a88f-b05ffd00e734",
   "metadata": {},
   "outputs": [],
   "source": [
    "import pandas as pd\n",
    "import matplotlib as plt\n",
    "import json\n",
    "import urllib"
   ]
  },
  {
   "cell_type": "markdown",
   "id": "b04cadf0-e1e1-4e7b-93e5-d989b39ceb95",
   "metadata": {},
   "source": [
    "I need to retrieve the API keys from Metacritic."
   ]
  },
  {
   "cell_type": "code",
   "execution_count": null,
   "id": "d12cf532-5239-4534-8ea4-64aa466c3939",
   "metadata": {},
   "outputs": [],
   "source": [
    "api_key = pd.read_csv(\"\")"
   ]
  },
  {
   "cell_type": "code",
   "execution_count": null,
   "id": "5a026f87-52a6-4933-830d-9c8399ed33bc",
   "metadata": {},
   "outputs": [],
   "source": [
    "app_id = app_key['Client_ID'].iloc[0]\n",
    "app_token = app_key['Client_Secret'].iloc[0]"
   ]
  },
  {
   "cell_type": "code",
   "execution_count": null,
   "id": "26d5ec23-206e-4e97-b7ab-8b0ebcf1b501",
   "metadata": {},
   "outputs": [],
   "source": [
    "encoded_key = base64.b64encode(str(app_id + \":\" + app_token).encode(\"ascii\"))\n",
    "#encoded_key"
   ]
  },
  {
   "cell_type": "code",
   "execution_count": null,
   "id": "40aa5ad8-03b6-49cc-9133-38ce14fa54cb",
   "metadata": {},
   "outputs": [],
   "source": [
    "url = ''\n",
    "data = {'grant_type':'client_credentials'}\n",
    "header = {'Authorization': 'Basic {}'.format(encoded_key.decode(\"ascii\"))}"
   ]
  },
  {
   "cell_type": "code",
   "execution_count": null,
   "id": "5c331b79-2a4d-43b2-b96e-118ad82f5691",
   "metadata": {},
   "outputs": [],
   "source": [
    "session_response = requests.post(url, data = data, headers = header)\n",
    "session_response.status_code"
   ]
  },
  {
   "cell_type": "code",
   "execution_count": null,
   "id": "348612e6-0ef4-4a47-8cfe-50d8abe3422a",
   "metadata": {},
   "outputs": [],
   "source": [
    "def get_session_token(SessionID, SessionKey):\n",
    "    url = ''\n",
    "    data = {'grant_type':'client_credentials'}\n",
    "    encoded_key = base64.b64encode(str(SessionID + \":\" + SessionKey).encode(\"ascii\"))\n",
    "    header = {'Authorization': 'Basic {}'.format(encoded_key.decode(\"ascii\"))}\n",
    "    response = requests.post(url, data = data, headers = header)\n",
    "    print(response.status_code)\n",
    "    return response.json()['access_token']"
   ]
  },
  {
   "cell_type": "code",
   "execution_count": null,
   "id": "512e25e7-47eb-41a5-9fc5-c56be58b63bd",
   "metadata": {},
   "outputs": [],
   "source": [
    "access_token = get_session_token(app_key['Client_ID'].iloc[0], app_key['Client_Secret'].iloc[0])"
   ]
  },
  {
   "cell_type": "markdown",
   "id": "25b5e703-f963-438e-8d62-568647086d3d",
   "metadata": {},
   "source": [
    "I have the template that I would need to access the APIs. Though, I am having trouble getting the API keys because I do not remember the process of getting the keys from a website outside of Spotify. When I have that done though, I plan on taking in information of the likes and dislikes of 3 pairs of games to compare them in probably a scatter plot or a histogram to show the likes vs dislikes."
   ]
  },
  {
   "cell_type": "code",
   "execution_count": null,
   "id": "22a8121e-d3c6-43b4-bcef-f5e93d077aef",
   "metadata": {},
   "outputs": [],
   "source": []
  },
  {
   "cell_type": "code",
   "execution_count": null,
   "id": "d503c458-29a7-43ac-bab1-7f691339f54a",
   "metadata": {},
   "outputs": [],
   "source": []
  },
  {
   "cell_type": "code",
   "execution_count": null,
   "id": "662a42b8-d1a1-4559-8eb9-79c62cb32fa4",
   "metadata": {},
   "outputs": [],
   "source": []
  },
  {
   "cell_type": "code",
   "execution_count": null,
   "id": "3c48ddb5-0176-4ba3-94bc-cd4fcf08f0f7",
   "metadata": {},
   "outputs": [],
   "source": []
  }
 ],
 "metadata": {
  "kernelspec": {
   "display_name": "Python 3 (ipykernel)",
   "language": "python",
   "name": "python3"
  },
  "language_info": {
   "codemirror_mode": {
    "name": "ipython",
    "version": 3
   },
   "file_extension": ".py",
   "mimetype": "text/x-python",
   "name": "python",
   "nbconvert_exporter": "python",
   "pygments_lexer": "ipython3",
   "version": "3.12.4"
  }
 },
 "nbformat": 4,
 "nbformat_minor": 5
}
